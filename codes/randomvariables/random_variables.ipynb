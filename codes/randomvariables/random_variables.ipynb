{
 "cells": [
  {
   "cell_type": "code",
   "execution_count": 7,
   "metadata": {},
   "outputs": [
    {
     "name": "stdout",
     "output_type": "stream",
     "text": [
      "[1.1]\n"
     ]
    }
   ],
   "source": [
    "import numpy as np\n",
    "\n",
    "# Define the possible returns and their probabilities\n",
    "returns = np.array([1.1, 1.2, 0.7, 0.0])\n",
    "probabilities = np.array([0.6, 0.1, 0.25, 0.05])\n",
    "\n",
    "print(np.random.choice(returns, size=1, p=probabilities))\n"
   ]
  },
  {
   "cell_type": "code",
   "execution_count": 34,
   "metadata": {},
   "outputs": [
    {
     "name": "stdout",
     "output_type": "stream",
     "text": [
      "[0.93474565]\n"
     ]
    }
   ],
   "source": [
    "import numpy as np\n",
    "\n",
    "# Parameters for the normal distribution\n",
    "mu = 1  # Mean\n",
    "sigma = 0.05  # Standard deviation\n",
    "\n",
    "print(np.random.normal(mu, sigma, 1))\n"
   ]
  },
  {
   "cell_type": "code",
   "execution_count": 1,
   "metadata": {},
   "outputs": [
    {
     "name": "stdout",
     "output_type": "stream",
     "text": [
      "Expected Value E(R): 0.9550000000000001\n",
      "Variance of R: 0.08047500000000002\n",
      "Standard Deviation of R: 0.2836811590500857\n"
     ]
    }
   ],
   "source": [
    "import numpy as np\n",
    "\n",
    "# Define the values that R can take (R_i) and their associated probabilities (pi_i)\n",
    "values = np.array([1.1, 1.2, 0.7, 0.0])  # Example values R_i\n",
    "probabilities = np.array([0.6, 0.1, 0.25, 0.05])  # Corresponding probabilities pi_i\n",
    "\n",
    "# Calculate the expected value (mean) of R\n",
    "expected_value = np.sum(values * probabilities)\n",
    "print(\"Expected Value E(R):\", expected_value)\n",
    "\n",
    "# Calculate the variance of R\n",
    "variance = np.sum((values - expected_value)**2 * probabilities)\n",
    "print(\"Variance of R:\", variance)"
   ]
  },
  {
   "cell_type": "code",
   "execution_count": 2,
   "metadata": {},
   "outputs": [
    {
     "name": "stdout",
     "output_type": "stream",
     "text": [
      "Covariance between R^a and R^b: 0.08857500000000001\n",
      "Correlation Coefficient between R^a and R^b: 0.931835252777556\n"
     ]
    }
   ],
   "source": [
    "import numpy as np\n",
    "\n",
    "# Define the values and probabilities for two random variables R^a and R^b\n",
    "values_a = np.array([1.1, 1.2, 0.7, 0.0])  # Example values R^a_i\n",
    "values_b = np.array([1.0, 1.3, 0.4, 0.1])  # Example values R^b_i\n",
    "probabilities = np.array([0.6, 0.1, 0.25, 0.05])  # Corresponding probabilities pi_i\n",
    "\n",
    "# Calculate the expected values (means) of R^a and R^b\n",
    "expected_value_a = np.sum(values_a * probabilities)\n",
    "expected_value_b = np.sum(values_b * probabilities)\n",
    "\n",
    "# Calculate the covariance between R^a and R^b\n",
    "covariance = np.sum(probabilities * (values_a - expected_value_a) * (values_b - expected_value_b))\n",
    "print(\"Covariance between R^a and R^b:\", covariance)\n",
    "\n",
    "# Calculate the variances of R^a and R^b\n",
    "variance_a = np.sum((values_a - expected_value_a)**2 * probabilities)\n",
    "variance_b = np.sum((values_b - expected_value_b)**2 * probabilities)\n",
    "\n",
    "# Calculate the standard deviations of R^a and R^b\n",
    "std_dev_a = np.sqrt(variance_a)\n",
    "std_dev_b = np.sqrt(variance_b)\n",
    "\n",
    "# Calculate the correlation coefficient\n",
    "correlation_coefficient = covariance / (std_dev_a * std_dev_b)\n",
    "print(\"Correlation Coefficient between R^a and R^b:\", correlation_coefficient)\n"
   ]
  },
  {
   "cell_type": "code",
   "execution_count": 4,
   "metadata": {},
   "outputs": [
    {
     "name": "stdout",
     "output_type": "stream",
     "text": [
      "Expected Value E(R^a): 0.9550000000000001\n",
      "Expected Value E(cR^a): 0.47750000000000004\n",
      "c * E(R^a): 0.47750000000000004\n",
      "Numerically verified that E(cR^a) = cE(R^a)\n"
     ]
    }
   ],
   "source": [
    "import numpy as np\n",
    "\n",
    "# Define the values for random variable R^a and its associated probabilities\n",
    "values_a = np.array([1.1, 1.2, 0.7, 0.0])  # Example values R^a_i\n",
    "probabilities = np.array([0.6, 0.1, 0.25, 0.05])  # Corresponding probabilities pi_i\n",
    "\n",
    "# Calculate the expected value of R^a\n",
    "expected_value_a = np.sum(values_a * probabilities)\n",
    "print(\"Expected Value E(R^a):\", expected_value_a)\n",
    "\n",
    "# Define the constant c\n",
    "c = 0.5\n",
    "\n",
    "# Calculate the expected value of cR^a using the definition\n",
    "expected_value_cRa = np.sum(c * values_a * probabilities)\n",
    "print(\"Expected Value E(cR^a):\", expected_value_cRa)\n",
    "\n",
    "# Calculate c times the expected value of R^a\n",
    "c_times_expected_value_a = c * expected_value_a\n",
    "print(\"c * E(R^a):\", c_times_expected_value_a)\n",
    "\n",
    "# Check if E(cR^a) is numerically equal to cE(R^a)\n",
    "if np.isclose(expected_value_cRa, c_times_expected_value_a):\n",
    "    print(\"Numerically verified that E(cR^a) = cE(R^a)\")\n",
    "else:\n",
    "    print(\"Numerical discrepancy found\")\n"
   ]
  },
  {
   "cell_type": "code",
   "execution_count": 5,
   "metadata": {},
   "outputs": [
    {
     "name": "stdout",
     "output_type": "stream",
     "text": [
      "Covariance Cov(R^a, R^b): 0.08857500000000001\n",
      "Covariance Cov(cR^a, dR^b): 0.03543000000000001\n",
      "cd * Cov(R^a, R^b): 0.03543000000000001\n",
      "Numerically verified that Cov(cR^a, dR^b) = cd * Cov(R^a, R^b)\n"
     ]
    }
   ],
   "source": [
    "import numpy as np\n",
    "\n",
    "# Define the values and probabilities for two random variables R^a and R^b\n",
    "values_a = np.array([1.1, 1.2, 0.7, 0.0])  # Example values R^a_i\n",
    "values_b = np.array([1.0, 1.3, 0.4, 0.1])  # Example values R^b_i\n",
    "probabilities = np.array([0.6, 0.1, 0.25, 0.05])  # Corresponding probabilities pi_i\n",
    "\n",
    "# Calculate the expected values (means) of R^a and R^b\n",
    "expected_value_a = np.sum(values_a * probabilities)\n",
    "expected_value_b = np.sum(values_b * probabilities)\n",
    "\n",
    "# Calculate the covariance between R^a and R^b\n",
    "covariance_ab = np.sum(probabilities * (values_a - expected_value_a) * (values_b - expected_value_b))\n",
    "print(\"Covariance Cov(R^a, R^b):\", covariance_ab)\n",
    "\n",
    "# Constants c and d\n",
    "c = 0.5  # Scaling factor for R^a\n",
    "d = 0.8  # Scaling factor for R^b\n",
    "\n",
    "# Calculate the covariance between cR^a and dR^b\n",
    "covariance_cRa_dRb = np.sum(probabilities * (c * (values_a - expected_value_a)) * (d * (values_b - expected_value_b)))\n",
    "print(\"Covariance Cov(cR^a, dR^b):\", covariance_cRa_dRb)\n",
    "\n",
    "# Calculate cd * Cov(R^a, R^b)\n",
    "cd_covariance_ab = c * d * covariance_ab\n",
    "print(\"cd * Cov(R^a, R^b):\", cd_covariance_ab)\n",
    "\n",
    "# Check if Cov(cR^a, dR^b) is numerically equal to cd * Cov(R^a, R^b)\n",
    "if np.isclose(covariance_cRa_dRb, cd_covariance_ab):\n",
    "    print(\"Numerically verified that Cov(cR^a, dR^b) = cd * Cov(R^a, R^b)\")\n",
    "else:\n",
    "    print(\"Numerical discrepancy found\")\n"
   ]
  }
 ],
 "metadata": {
  "kernelspec": {
   "display_name": "Python 3",
   "language": "python",
   "name": "python3"
  },
  "language_info": {
   "codemirror_mode": {
    "name": "ipython",
    "version": 3
   },
   "file_extension": ".py",
   "mimetype": "text/x-python",
   "name": "python",
   "nbconvert_exporter": "python",
   "pygments_lexer": "ipython3",
   "version": "3.8.10"
  }
 },
 "nbformat": 4,
 "nbformat_minor": 2
}
