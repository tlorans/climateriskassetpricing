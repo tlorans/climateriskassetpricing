{
 "cells": [
  {
   "cell_type": "code",
   "execution_count": 7,
   "metadata": {},
   "outputs": [
    {
     "name": "stdout",
     "output_type": "stream",
     "text": [
      "[1.1]\n"
     ]
    }
   ],
   "source": [
    "import numpy as np\n",
    "\n",
    "# Define the possible returns and their probabilities\n",
    "returns = np.array([1.1, 1.2, 0.7, 0.0])\n",
    "probabilities = np.array([0.6, 0.1, 0.25, 0.05])\n",
    "\n",
    "print(np.random.choice(returns, size=1, p=probabilities))\n"
   ]
  },
  {
   "cell_type": "code",
   "execution_count": 31,
   "metadata": {},
   "outputs": [
    {
     "name": "stdout",
     "output_type": "stream",
     "text": [
      "Only old products work 0.7\n"
     ]
    }
   ],
   "source": [
    "import numpy as np\n",
    "\n",
    "# Define the states of the world and their corresponding gross returns and probabilities\n",
    "states_of_world = [\n",
    "    {\"state\": \"New product works, competitor burns down\", \"return\": 1.1, \"probability\": 0.6},\n",
    "    {\"state\": \"New product works, competitor ok\", \"return\": 1.2, \"probability\": 0.1},\n",
    "    {\"state\": \"Only old products work\", \"return\": 0.7, \"probability\": 0.25},\n",
    "    {\"state\": \"Factory burns down, no insurance\", \"return\": 0.0, \"probability\": 0.05}\n",
    "]\n",
    "\n",
    "\n",
    "probabilities = [state[\"probability\"] for state in states_of_world]\n",
    "chosen_state = np.random.choice(states_of_world, p=probabilities)\n",
    "print(chosen_state[\"state\"], chosen_state[\"return\"])\n"
   ]
  }
 ],
 "metadata": {
  "kernelspec": {
   "display_name": "Python 3",
   "language": "python",
   "name": "python3"
  },
  "language_info": {
   "codemirror_mode": {
    "name": "ipython",
    "version": 3
   },
   "file_extension": ".py",
   "mimetype": "text/x-python",
   "name": "python",
   "nbconvert_exporter": "python",
   "pygments_lexer": "ipython3",
   "version": "3.8.10"
  }
 },
 "nbformat": 4,
 "nbformat_minor": 2
}
