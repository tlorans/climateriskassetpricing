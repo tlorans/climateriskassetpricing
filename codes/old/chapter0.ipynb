{
 "cells": [
  {
   "cell_type": "code",
   "execution_count": 1,
   "metadata": {},
   "outputs": [
    {
     "name": "stdout",
     "output_type": "stream",
     "text": [
      "Requirement already satisfied: simpy in c:\\users\\t_lorans\\appdata\\local\\programs\\python\\python38\\lib\\site-packages (4.1.1)\n"
     ]
    },
    {
     "name": "stderr",
     "output_type": "stream",
     "text": [
      "\n",
      "[notice] A new release of pip is available: 23.3.2 -> 24.0\n",
      "[notice] To update, run: python.exe -m pip install --upgrade pip\n"
     ]
    }
   ],
   "source": [
    "# !pip install simpy"
   ]
  },
  {
   "cell_type": "markdown",
   "metadata": {},
   "source": [
    "Utility function"
   ]
  },
  {
   "cell_type": "code",
   "execution_count": 24,
   "metadata": {},
   "outputs": [
    {
     "name": "stdout",
     "output_type": "stream",
     "text": [
      "-exp(-A_i*W_0_i*(Matrix([[1]]) + r_f))*exp(-A_i*W_0_i*X_i.T*(bi*W_0_i**(-1)*A_i**(-1) + mu))\n"
     ]
    }
   ],
   "source": [
    "import sympy as sp\n",
    "\n",
    "N = 5\n",
    "\n",
    "# Define variables\n",
    "# A_i, W_0_i, r_f, a_i = sp.symbols('A_i W_0_i r_f a_i')\n",
    "A_i = sp.MatrixSymbol('A_i', 1, 1) # scalar\n",
    "W_0_i = sp.MatrixSymbol('W_0_i', 1, 1) # scalar\n",
    "r_f = sp.MatrixSymbol('r_f', 1, 1) # scalar\n",
    "a_i = sp.MatrixSymbol('a_i', 1, 1) # scalar\n",
    "mu = sp.MatrixSymbol('mu', N, 1)\n",
    "bi = sp.MatrixSymbol('bi', N, 1)\n",
    "Sigma = sp.MatrixSymbol('Sigma', N, N)\n",
    "X_i = sp.MatrixSymbol('X_i', N, 1)\n",
    "tilde_r = sp.MatrixSymbol('tilde_r', N, 1)\n",
    "\n",
    "# Define the terms\n",
    "# one = sp.Integer(1)\n",
    "one = sp.Matrix([[1]])\n",
    "a_i = A_i * W_0_i\n",
    "mu_plus_bi = mu + bi / a_i\n",
    "term1 = -a_i * (one + r_f)\n",
    "term2 = -a_i * X_i.T * (mu + bi / a_i)\n",
    "term3 = (1 / 2) * a_i**2 * X_i.T * Sigma * X_i\n",
    "\n",
    "# Define the expected utility function\n",
    "E_U = -sp.exp(term1) * sp.exp(term2)\n",
    "\n",
    "print(E_U)"
   ]
  },
  {
   "cell_type": "code",
   "execution_count": 25,
   "metadata": {},
   "outputs": [
    {
     "ename": "TypeError",
     "evalue": "Mix of Matrix and Scalar symbols",
     "output_type": "error",
     "traceback": [
      "\u001b[1;31m---------------------------------------------------------------------------\u001b[0m",
      "\u001b[1;31mTypeError\u001b[0m                                 Traceback (most recent call last)",
      "Cell \u001b[1;32mIn[25], line 2\u001b[0m\n\u001b[0;32m      1\u001b[0m \u001b[38;5;66;03m# Simplify the expected utility function\u001b[39;00m\n\u001b[1;32m----> 2\u001b[0m E_U_simplified \u001b[38;5;241m=\u001b[39m \u001b[43msp\u001b[49m\u001b[38;5;241;43m.\u001b[39;49m\u001b[43msimplify\u001b[49m\u001b[43m(\u001b[49m\u001b[43mE_U\u001b[49m\u001b[43m)\u001b[49m\n\u001b[0;32m      3\u001b[0m \u001b[38;5;28mprint\u001b[39m(E_U_simplified)\n",
      "File \u001b[1;32mc:\\Users\\T_LORANS\\AppData\\Local\\Programs\\Python\\Python38\\lib\\site-packages\\sympy\\simplify\\simplify.py:629\u001b[0m, in \u001b[0;36msimplify\u001b[1;34m(expr, ratio, measure, rational, inverse, doit, **kwargs)\u001b[0m\n\u001b[0;32m    626\u001b[0m     \u001b[38;5;28;01mreturn\u001b[39;00m done(expr)\n\u001b[0;32m    628\u001b[0m \u001b[38;5;28;01mif\u001b[39;00m \u001b[38;5;129;01mnot\u001b[39;00m expr\u001b[38;5;241m.\u001b[39mis_commutative:\n\u001b[1;32m--> 629\u001b[0m     expr \u001b[38;5;241m=\u001b[39m \u001b[43mnc_simplify\u001b[49m\u001b[43m(\u001b[49m\u001b[43mexpr\u001b[49m\u001b[43m)\u001b[49m\n\u001b[0;32m    631\u001b[0m \u001b[38;5;66;03m# TODO: Apply different strategies, considering expression pattern:\u001b[39;00m\n\u001b[0;32m    632\u001b[0m \u001b[38;5;66;03m# is it a purely rational function? Is there any trigonometric function?...\u001b[39;00m\n\u001b[0;32m    633\u001b[0m \u001b[38;5;66;03m# See also https://github.com/sympy/sympy/pull/185.\u001b[39;00m\n\u001b[0;32m    634\u001b[0m \n\u001b[0;32m    635\u001b[0m \n\u001b[0;32m    636\u001b[0m \u001b[38;5;66;03m# rationalize Floats\u001b[39;00m\n\u001b[0;32m    637\u001b[0m floats \u001b[38;5;241m=\u001b[39m \u001b[38;5;28;01mFalse\u001b[39;00m\n",
      "File \u001b[1;32mc:\\Users\\T_LORANS\\AppData\\Local\\Programs\\Python\\Python38\\lib\\site-packages\\sympy\\simplify\\simplify.py:1762\u001b[0m, in \u001b[0;36mnc_simplify\u001b[1;34m(expr, deep)\u001b[0m\n\u001b[0;32m   1760\u001b[0m     com_coeff \u001b[38;5;241m=\u001b[39m Mul(\u001b[38;5;241m*\u001b[39mc_args)\n\u001b[0;32m   1761\u001b[0m     \u001b[38;5;28;01mif\u001b[39;00m com_coeff \u001b[38;5;241m!=\u001b[39m \u001b[38;5;241m1\u001b[39m:\n\u001b[1;32m-> 1762\u001b[0m         \u001b[38;5;28;01mreturn\u001b[39;00m com_coeff\u001b[38;5;241m*\u001b[39m\u001b[43mnc_simplify\u001b[49m\u001b[43m(\u001b[49m\u001b[43mexpr\u001b[49m\u001b[38;5;241;43m/\u001b[39;49m\u001b[43mcom_coeff\u001b[49m\u001b[43m,\u001b[49m\u001b[43m \u001b[49m\u001b[43mdeep\u001b[49m\u001b[38;5;241;43m=\u001b[39;49m\u001b[43mdeep\u001b[49m\u001b[43m)\u001b[49m\n\u001b[0;32m   1764\u001b[0m inv_tot, args \u001b[38;5;241m=\u001b[39m _reduce_inverses(args)\n\u001b[0;32m   1765\u001b[0m \u001b[38;5;66;03m# if most arguments are negative, work with the inverse\u001b[39;00m\n\u001b[0;32m   1766\u001b[0m \u001b[38;5;66;03m# of the expression, e.g. a**-1*b*a**-1*c**-1 will become\u001b[39;00m\n\u001b[0;32m   1767\u001b[0m \u001b[38;5;66;03m# (c*a*b**-1*a)**-1 at the end so can work with c*a*b**-1*a\u001b[39;00m\n",
      "File \u001b[1;32mc:\\Users\\T_LORANS\\AppData\\Local\\Programs\\Python\\Python38\\lib\\site-packages\\sympy\\simplify\\simplify.py:1950\u001b[0m, in \u001b[0;36mnc_simplify\u001b[1;34m(expr, deep)\u001b[0m\n\u001b[0;32m   1948\u001b[0m \u001b[38;5;66;03m# see if factor_nc(expr) is simplified better\u001b[39;00m\n\u001b[0;32m   1949\u001b[0m \u001b[38;5;28;01mif\u001b[39;00m \u001b[38;5;129;01mnot\u001b[39;00m \u001b[38;5;28misinstance\u001b[39m(expr, MatrixExpr):\n\u001b[1;32m-> 1950\u001b[0m     f_expr \u001b[38;5;241m=\u001b[39m \u001b[43mfactor_nc\u001b[49m\u001b[43m(\u001b[49m\u001b[43mexpr\u001b[49m\u001b[43m)\u001b[49m\n\u001b[0;32m   1951\u001b[0m     \u001b[38;5;28;01mif\u001b[39;00m f_expr \u001b[38;5;241m!=\u001b[39m expr:\n\u001b[0;32m   1952\u001b[0m         alt_simp \u001b[38;5;241m=\u001b[39m nc_simplify(f_expr, deep\u001b[38;5;241m=\u001b[39mdeep)\n",
      "File \u001b[1;32mc:\\Users\\T_LORANS\\AppData\\Local\\Programs\\Python\\Python38\\lib\\site-packages\\sympy\\core\\exprtools.py:1414\u001b[0m, in \u001b[0;36mfactor_nc\u001b[1;34m(expr)\u001b[0m\n\u001b[0;32m   1412\u001b[0m     \u001b[38;5;28;01mreturn\u001b[39;00m expr\n\u001b[0;32m   1413\u001b[0m \u001b[38;5;28;01mif\u001b[39;00m \u001b[38;5;129;01mnot\u001b[39;00m expr\u001b[38;5;241m.\u001b[39mis_Add:\n\u001b[1;32m-> 1414\u001b[0m     \u001b[38;5;28;01mreturn\u001b[39;00m expr\u001b[38;5;241m.\u001b[39mfunc(\u001b[38;5;241m*\u001b[39m[factor_nc(a) \u001b[38;5;28;01mfor\u001b[39;00m a \u001b[38;5;129;01min\u001b[39;00m expr\u001b[38;5;241m.\u001b[39margs])\n\u001b[0;32m   1415\u001b[0m expr \u001b[38;5;241m=\u001b[39m expr\u001b[38;5;241m.\u001b[39mfunc(\u001b[38;5;241m*\u001b[39m[expand_power_exp(i) \u001b[38;5;28;01mfor\u001b[39;00m i \u001b[38;5;129;01min\u001b[39;00m expr\u001b[38;5;241m.\u001b[39margs])\n\u001b[0;32m   1417\u001b[0m \u001b[38;5;28;01mfrom\u001b[39;00m \u001b[38;5;21;01msympy\u001b[39;00m\u001b[38;5;21;01m.\u001b[39;00m\u001b[38;5;21;01mpolys\u001b[39;00m\u001b[38;5;21;01m.\u001b[39;00m\u001b[38;5;21;01mpolytools\u001b[39;00m \u001b[38;5;28;01mimport\u001b[39;00m gcd, factor\n",
      "File \u001b[1;32mc:\\Users\\T_LORANS\\AppData\\Local\\Programs\\Python\\Python38\\lib\\site-packages\\sympy\\core\\exprtools.py:1414\u001b[0m, in \u001b[0;36m<listcomp>\u001b[1;34m(.0)\u001b[0m\n\u001b[0;32m   1412\u001b[0m     \u001b[38;5;28;01mreturn\u001b[39;00m expr\n\u001b[0;32m   1413\u001b[0m \u001b[38;5;28;01mif\u001b[39;00m \u001b[38;5;129;01mnot\u001b[39;00m expr\u001b[38;5;241m.\u001b[39mis_Add:\n\u001b[1;32m-> 1414\u001b[0m     \u001b[38;5;28;01mreturn\u001b[39;00m expr\u001b[38;5;241m.\u001b[39mfunc(\u001b[38;5;241m*\u001b[39m[\u001b[43mfactor_nc\u001b[49m\u001b[43m(\u001b[49m\u001b[43ma\u001b[49m\u001b[43m)\u001b[49m \u001b[38;5;28;01mfor\u001b[39;00m a \u001b[38;5;129;01min\u001b[39;00m expr\u001b[38;5;241m.\u001b[39margs])\n\u001b[0;32m   1415\u001b[0m expr \u001b[38;5;241m=\u001b[39m expr\u001b[38;5;241m.\u001b[39mfunc(\u001b[38;5;241m*\u001b[39m[expand_power_exp(i) \u001b[38;5;28;01mfor\u001b[39;00m i \u001b[38;5;129;01min\u001b[39;00m expr\u001b[38;5;241m.\u001b[39margs])\n\u001b[0;32m   1417\u001b[0m \u001b[38;5;28;01mfrom\u001b[39;00m \u001b[38;5;21;01msympy\u001b[39;00m\u001b[38;5;21;01m.\u001b[39;00m\u001b[38;5;21;01mpolys\u001b[39;00m\u001b[38;5;21;01m.\u001b[39;00m\u001b[38;5;21;01mpolytools\u001b[39;00m \u001b[38;5;28;01mimport\u001b[39;00m gcd, factor\n",
      "File \u001b[1;32mc:\\Users\\T_LORANS\\AppData\\Local\\Programs\\Python\\Python38\\lib\\site-packages\\sympy\\core\\exprtools.py:1414\u001b[0m, in \u001b[0;36mfactor_nc\u001b[1;34m(expr)\u001b[0m\n\u001b[0;32m   1412\u001b[0m     \u001b[38;5;28;01mreturn\u001b[39;00m expr\n\u001b[0;32m   1413\u001b[0m \u001b[38;5;28;01mif\u001b[39;00m \u001b[38;5;129;01mnot\u001b[39;00m expr\u001b[38;5;241m.\u001b[39mis_Add:\n\u001b[1;32m-> 1414\u001b[0m     \u001b[38;5;28;01mreturn\u001b[39;00m expr\u001b[38;5;241m.\u001b[39mfunc(\u001b[38;5;241m*\u001b[39m[factor_nc(a) \u001b[38;5;28;01mfor\u001b[39;00m a \u001b[38;5;129;01min\u001b[39;00m expr\u001b[38;5;241m.\u001b[39margs])\n\u001b[0;32m   1415\u001b[0m expr \u001b[38;5;241m=\u001b[39m expr\u001b[38;5;241m.\u001b[39mfunc(\u001b[38;5;241m*\u001b[39m[expand_power_exp(i) \u001b[38;5;28;01mfor\u001b[39;00m i \u001b[38;5;129;01min\u001b[39;00m expr\u001b[38;5;241m.\u001b[39margs])\n\u001b[0;32m   1417\u001b[0m \u001b[38;5;28;01mfrom\u001b[39;00m \u001b[38;5;21;01msympy\u001b[39;00m\u001b[38;5;21;01m.\u001b[39;00m\u001b[38;5;21;01mpolys\u001b[39;00m\u001b[38;5;21;01m.\u001b[39;00m\u001b[38;5;21;01mpolytools\u001b[39;00m \u001b[38;5;28;01mimport\u001b[39;00m gcd, factor\n",
      "File \u001b[1;32mc:\\Users\\T_LORANS\\AppData\\Local\\Programs\\Python\\Python38\\lib\\site-packages\\sympy\\core\\exprtools.py:1414\u001b[0m, in \u001b[0;36m<listcomp>\u001b[1;34m(.0)\u001b[0m\n\u001b[0;32m   1412\u001b[0m     \u001b[38;5;28;01mreturn\u001b[39;00m expr\n\u001b[0;32m   1413\u001b[0m \u001b[38;5;28;01mif\u001b[39;00m \u001b[38;5;129;01mnot\u001b[39;00m expr\u001b[38;5;241m.\u001b[39mis_Add:\n\u001b[1;32m-> 1414\u001b[0m     \u001b[38;5;28;01mreturn\u001b[39;00m expr\u001b[38;5;241m.\u001b[39mfunc(\u001b[38;5;241m*\u001b[39m[\u001b[43mfactor_nc\u001b[49m\u001b[43m(\u001b[49m\u001b[43ma\u001b[49m\u001b[43m)\u001b[49m \u001b[38;5;28;01mfor\u001b[39;00m a \u001b[38;5;129;01min\u001b[39;00m expr\u001b[38;5;241m.\u001b[39margs])\n\u001b[0;32m   1415\u001b[0m expr \u001b[38;5;241m=\u001b[39m expr\u001b[38;5;241m.\u001b[39mfunc(\u001b[38;5;241m*\u001b[39m[expand_power_exp(i) \u001b[38;5;28;01mfor\u001b[39;00m i \u001b[38;5;129;01min\u001b[39;00m expr\u001b[38;5;241m.\u001b[39margs])\n\u001b[0;32m   1417\u001b[0m \u001b[38;5;28;01mfrom\u001b[39;00m \u001b[38;5;21;01msympy\u001b[39;00m\u001b[38;5;21;01m.\u001b[39;00m\u001b[38;5;21;01mpolys\u001b[39;00m\u001b[38;5;21;01m.\u001b[39;00m\u001b[38;5;21;01mpolytools\u001b[39;00m \u001b[38;5;28;01mimport\u001b[39;00m gcd, factor\n",
      "File \u001b[1;32mc:\\Users\\T_LORANS\\AppData\\Local\\Programs\\Python\\Python38\\lib\\site-packages\\sympy\\core\\exprtools.py:1414\u001b[0m, in \u001b[0;36mfactor_nc\u001b[1;34m(expr)\u001b[0m\n\u001b[0;32m   1412\u001b[0m     \u001b[38;5;28;01mreturn\u001b[39;00m expr\n\u001b[0;32m   1413\u001b[0m \u001b[38;5;28;01mif\u001b[39;00m \u001b[38;5;129;01mnot\u001b[39;00m expr\u001b[38;5;241m.\u001b[39mis_Add:\n\u001b[1;32m-> 1414\u001b[0m     \u001b[38;5;28;01mreturn\u001b[39;00m expr\u001b[38;5;241m.\u001b[39mfunc(\u001b[38;5;241m*\u001b[39m[factor_nc(a) \u001b[38;5;28;01mfor\u001b[39;00m a \u001b[38;5;129;01min\u001b[39;00m expr\u001b[38;5;241m.\u001b[39margs])\n\u001b[0;32m   1415\u001b[0m expr \u001b[38;5;241m=\u001b[39m expr\u001b[38;5;241m.\u001b[39mfunc(\u001b[38;5;241m*\u001b[39m[expand_power_exp(i) \u001b[38;5;28;01mfor\u001b[39;00m i \u001b[38;5;129;01min\u001b[39;00m expr\u001b[38;5;241m.\u001b[39margs])\n\u001b[0;32m   1417\u001b[0m \u001b[38;5;28;01mfrom\u001b[39;00m \u001b[38;5;21;01msympy\u001b[39;00m\u001b[38;5;21;01m.\u001b[39;00m\u001b[38;5;21;01mpolys\u001b[39;00m\u001b[38;5;21;01m.\u001b[39;00m\u001b[38;5;21;01mpolytools\u001b[39;00m \u001b[38;5;28;01mimport\u001b[39;00m gcd, factor\n",
      "File \u001b[1;32mc:\\Users\\T_LORANS\\AppData\\Local\\Programs\\Python\\Python38\\lib\\site-packages\\sympy\\core\\exprtools.py:1414\u001b[0m, in \u001b[0;36m<listcomp>\u001b[1;34m(.0)\u001b[0m\n\u001b[0;32m   1412\u001b[0m     \u001b[38;5;28;01mreturn\u001b[39;00m expr\n\u001b[0;32m   1413\u001b[0m \u001b[38;5;28;01mif\u001b[39;00m \u001b[38;5;129;01mnot\u001b[39;00m expr\u001b[38;5;241m.\u001b[39mis_Add:\n\u001b[1;32m-> 1414\u001b[0m     \u001b[38;5;28;01mreturn\u001b[39;00m expr\u001b[38;5;241m.\u001b[39mfunc(\u001b[38;5;241m*\u001b[39m[\u001b[43mfactor_nc\u001b[49m\u001b[43m(\u001b[49m\u001b[43ma\u001b[49m\u001b[43m)\u001b[49m \u001b[38;5;28;01mfor\u001b[39;00m a \u001b[38;5;129;01min\u001b[39;00m expr\u001b[38;5;241m.\u001b[39margs])\n\u001b[0;32m   1415\u001b[0m expr \u001b[38;5;241m=\u001b[39m expr\u001b[38;5;241m.\u001b[39mfunc(\u001b[38;5;241m*\u001b[39m[expand_power_exp(i) \u001b[38;5;28;01mfor\u001b[39;00m i \u001b[38;5;129;01min\u001b[39;00m expr\u001b[38;5;241m.\u001b[39margs])\n\u001b[0;32m   1417\u001b[0m \u001b[38;5;28;01mfrom\u001b[39;00m \u001b[38;5;21;01msympy\u001b[39;00m\u001b[38;5;21;01m.\u001b[39;00m\u001b[38;5;21;01mpolys\u001b[39;00m\u001b[38;5;21;01m.\u001b[39;00m\u001b[38;5;21;01mpolytools\u001b[39;00m \u001b[38;5;28;01mimport\u001b[39;00m gcd, factor\n",
      "File \u001b[1;32mc:\\Users\\T_LORANS\\AppData\\Local\\Programs\\Python\\Python38\\lib\\site-packages\\sympy\\core\\exprtools.py:1418\u001b[0m, in \u001b[0;36mfactor_nc\u001b[1;34m(expr)\u001b[0m\n\u001b[0;32m   1415\u001b[0m expr \u001b[38;5;241m=\u001b[39m expr\u001b[38;5;241m.\u001b[39mfunc(\u001b[38;5;241m*\u001b[39m[expand_power_exp(i) \u001b[38;5;28;01mfor\u001b[39;00m i \u001b[38;5;129;01min\u001b[39;00m expr\u001b[38;5;241m.\u001b[39margs])\n\u001b[0;32m   1417\u001b[0m \u001b[38;5;28;01mfrom\u001b[39;00m \u001b[38;5;21;01msympy\u001b[39;00m\u001b[38;5;21;01m.\u001b[39;00m\u001b[38;5;21;01mpolys\u001b[39;00m\u001b[38;5;21;01m.\u001b[39;00m\u001b[38;5;21;01mpolytools\u001b[39;00m \u001b[38;5;28;01mimport\u001b[39;00m gcd, factor\n\u001b[1;32m-> 1418\u001b[0m expr, rep, nc_symbols \u001b[38;5;241m=\u001b[39m \u001b[43m_mask_nc\u001b[49m\u001b[43m(\u001b[49m\u001b[43mexpr\u001b[49m\u001b[43m)\u001b[49m\n\u001b[0;32m   1420\u001b[0m \u001b[38;5;28;01mif\u001b[39;00m rep:\n\u001b[0;32m   1421\u001b[0m     \u001b[38;5;28;01mreturn\u001b[39;00m factor(expr)\u001b[38;5;241m.\u001b[39msubs(rep)\n",
      "File \u001b[1;32mc:\\Users\\T_LORANS\\AppData\\Local\\Programs\\Python\\Python38\\lib\\site-packages\\sympy\\core\\exprtools.py:1387\u001b[0m, in \u001b[0;36m_mask_nc\u001b[1;34m(eq, name)\u001b[0m\n\u001b[0;32m   1385\u001b[0m     rep\u001b[38;5;241m.\u001b[39mappend((n, nc))\n\u001b[0;32m   1386\u001b[0m     nc_syms\u001b[38;5;241m.\u001b[39madd(nc)\n\u001b[1;32m-> 1387\u001b[0m expr \u001b[38;5;241m=\u001b[39m \u001b[43mexpr\u001b[49m\u001b[38;5;241;43m.\u001b[39;49m\u001b[43msubs\u001b[49m\u001b[43m(\u001b[49m\u001b[43mrep\u001b[49m\u001b[43m)\u001b[49m\n\u001b[0;32m   1389\u001b[0m nc_syms \u001b[38;5;241m=\u001b[39m \u001b[38;5;28mlist\u001b[39m(nc_syms)\n\u001b[0;32m   1390\u001b[0m nc_syms\u001b[38;5;241m.\u001b[39msort(key\u001b[38;5;241m=\u001b[39mdefault_sort_key)\n",
      "File \u001b[1;32mc:\\Users\\T_LORANS\\AppData\\Local\\Programs\\Python\\Python38\\lib\\site-packages\\sympy\\core\\basic.py:1040\u001b[0m, in \u001b[0;36mBasic.subs\u001b[1;34m(self, *args, **kwargs)\u001b[0m\n\u001b[0;32m   1038\u001b[0m rv \u001b[38;5;241m=\u001b[39m \u001b[38;5;28mself\u001b[39m\n\u001b[0;32m   1039\u001b[0m \u001b[38;5;28;01mfor\u001b[39;00m old, new \u001b[38;5;129;01min\u001b[39;00m sequence:\n\u001b[1;32m-> 1040\u001b[0m     rv \u001b[38;5;241m=\u001b[39m \u001b[43mrv\u001b[49m\u001b[38;5;241;43m.\u001b[39;49m\u001b[43m_subs\u001b[49m\u001b[43m(\u001b[49m\u001b[43mold\u001b[49m\u001b[43m,\u001b[49m\u001b[43m \u001b[49m\u001b[43mnew\u001b[49m\u001b[43m,\u001b[49m\u001b[43m \u001b[49m\u001b[38;5;241;43m*\u001b[39;49m\u001b[38;5;241;43m*\u001b[39;49m\u001b[43mkwargs\u001b[49m\u001b[43m)\u001b[49m\n\u001b[0;32m   1041\u001b[0m     \u001b[38;5;28;01mif\u001b[39;00m \u001b[38;5;129;01mnot\u001b[39;00m \u001b[38;5;28misinstance\u001b[39m(rv, Basic):\n\u001b[0;32m   1042\u001b[0m         \u001b[38;5;28;01mbreak\u001b[39;00m\n",
      "File \u001b[1;32mc:\\Users\\T_LORANS\\AppData\\Local\\Programs\\Python\\Python38\\lib\\site-packages\\sympy\\core\\cache.py:72\u001b[0m, in \u001b[0;36m__cacheit.<locals>.func_wrapper.<locals>.wrapper\u001b[1;34m(*args, **kwargs)\u001b[0m\n\u001b[0;32m     69\u001b[0m \u001b[38;5;129m@wraps\u001b[39m(func)\n\u001b[0;32m     70\u001b[0m \u001b[38;5;28;01mdef\u001b[39;00m \u001b[38;5;21mwrapper\u001b[39m(\u001b[38;5;241m*\u001b[39margs, \u001b[38;5;241m*\u001b[39m\u001b[38;5;241m*\u001b[39mkwargs):\n\u001b[0;32m     71\u001b[0m     \u001b[38;5;28;01mtry\u001b[39;00m:\n\u001b[1;32m---> 72\u001b[0m         retval \u001b[38;5;241m=\u001b[39m \u001b[43mcfunc\u001b[49m\u001b[43m(\u001b[49m\u001b[38;5;241;43m*\u001b[39;49m\u001b[43margs\u001b[49m\u001b[43m,\u001b[49m\u001b[43m \u001b[49m\u001b[38;5;241;43m*\u001b[39;49m\u001b[38;5;241;43m*\u001b[39;49m\u001b[43mkwargs\u001b[49m\u001b[43m)\u001b[49m\n\u001b[0;32m     73\u001b[0m     \u001b[38;5;28;01mexcept\u001b[39;00m \u001b[38;5;167;01mTypeError\u001b[39;00m \u001b[38;5;28;01mas\u001b[39;00m e:\n\u001b[0;32m     74\u001b[0m         \u001b[38;5;28;01mif\u001b[39;00m \u001b[38;5;129;01mnot\u001b[39;00m e\u001b[38;5;241m.\u001b[39margs \u001b[38;5;129;01mor\u001b[39;00m \u001b[38;5;129;01mnot\u001b[39;00m e\u001b[38;5;241m.\u001b[39margs[\u001b[38;5;241m0\u001b[39m]\u001b[38;5;241m.\u001b[39mstartswith(\u001b[38;5;124m'\u001b[39m\u001b[38;5;124munhashable type:\u001b[39m\u001b[38;5;124m'\u001b[39m):\n",
      "File \u001b[1;32mc:\\Users\\T_LORANS\\AppData\\Local\\Programs\\Python\\Python38\\lib\\site-packages\\sympy\\core\\basic.py:1154\u001b[0m, in \u001b[0;36mBasic._subs\u001b[1;34m(self, old, new, **hints)\u001b[0m\n\u001b[0;32m   1152\u001b[0m rv \u001b[38;5;241m=\u001b[39m \u001b[38;5;28mself\u001b[39m\u001b[38;5;241m.\u001b[39m_eval_subs(old, new)\n\u001b[0;32m   1153\u001b[0m \u001b[38;5;28;01mif\u001b[39;00m rv \u001b[38;5;129;01mis\u001b[39;00m \u001b[38;5;28;01mNone\u001b[39;00m:\n\u001b[1;32m-> 1154\u001b[0m     rv \u001b[38;5;241m=\u001b[39m \u001b[43mfallback\u001b[49m\u001b[43m(\u001b[49m\u001b[38;5;28;43mself\u001b[39;49m\u001b[43m,\u001b[49m\u001b[43m \u001b[49m\u001b[43mold\u001b[49m\u001b[43m,\u001b[49m\u001b[43m \u001b[49m\u001b[43mnew\u001b[49m\u001b[43m)\u001b[49m\n\u001b[0;32m   1155\u001b[0m \u001b[38;5;28;01mreturn\u001b[39;00m rv\n",
      "File \u001b[1;32mc:\\Users\\T_LORANS\\AppData\\Local\\Programs\\Python\\Python38\\lib\\site-packages\\sympy\\core\\basic.py:1131\u001b[0m, in \u001b[0;36mBasic._subs.<locals>.fallback\u001b[1;34m(self, old, new)\u001b[0m\n\u001b[0;32m   1129\u001b[0m         args[i] \u001b[38;5;241m=\u001b[39m arg\n\u001b[0;32m   1130\u001b[0m \u001b[38;5;28;01mif\u001b[39;00m hit:\n\u001b[1;32m-> 1131\u001b[0m     rv \u001b[38;5;241m=\u001b[39m \u001b[38;5;28;43mself\u001b[39;49m\u001b[38;5;241;43m.\u001b[39;49m\u001b[43mfunc\u001b[49m\u001b[43m(\u001b[49m\u001b[38;5;241;43m*\u001b[39;49m\u001b[43margs\u001b[49m\u001b[43m)\u001b[49m\n\u001b[0;32m   1132\u001b[0m     hack2 \u001b[38;5;241m=\u001b[39m hints\u001b[38;5;241m.\u001b[39mget(\u001b[38;5;124m'\u001b[39m\u001b[38;5;124mhack2\u001b[39m\u001b[38;5;124m'\u001b[39m, \u001b[38;5;28;01mFalse\u001b[39;00m)\n\u001b[0;32m   1133\u001b[0m     \u001b[38;5;28;01mif\u001b[39;00m hack2 \u001b[38;5;129;01mand\u001b[39;00m \u001b[38;5;28mself\u001b[39m\u001b[38;5;241m.\u001b[39mis_Mul \u001b[38;5;129;01mand\u001b[39;00m \u001b[38;5;129;01mnot\u001b[39;00m rv\u001b[38;5;241m.\u001b[39mis_Mul:  \u001b[38;5;66;03m# 2-arg hack\u001b[39;00m\n",
      "File \u001b[1;32mc:\\Users\\T_LORANS\\AppData\\Local\\Programs\\Python\\Python38\\lib\\site-packages\\sympy\\matrices\\expressions\\matadd.py:49\u001b[0m, in \u001b[0;36mMatAdd.__new__\u001b[1;34m(cls, evaluate, check, _sympify, *args)\u001b[0m\n\u001b[0;32m     46\u001b[0m     args \u001b[38;5;241m=\u001b[39m \u001b[38;5;28mlist\u001b[39m(\u001b[38;5;28mmap\u001b[39m(sympify, args))\n\u001b[0;32m     48\u001b[0m \u001b[38;5;28;01mif\u001b[39;00m \u001b[38;5;129;01mnot\u001b[39;00m \u001b[38;5;28mall\u001b[39m(\u001b[38;5;28misinstance\u001b[39m(arg, MatrixExpr) \u001b[38;5;28;01mfor\u001b[39;00m arg \u001b[38;5;129;01min\u001b[39;00m args):\n\u001b[1;32m---> 49\u001b[0m     \u001b[38;5;28;01mraise\u001b[39;00m \u001b[38;5;167;01mTypeError\u001b[39;00m(\u001b[38;5;124m\"\u001b[39m\u001b[38;5;124mMix of Matrix and Scalar symbols\u001b[39m\u001b[38;5;124m\"\u001b[39m)\n\u001b[0;32m     51\u001b[0m obj \u001b[38;5;241m=\u001b[39m Basic\u001b[38;5;241m.\u001b[39m\u001b[38;5;21m__new__\u001b[39m(\u001b[38;5;28mcls\u001b[39m, \u001b[38;5;241m*\u001b[39margs)\n\u001b[0;32m     53\u001b[0m \u001b[38;5;28;01mif\u001b[39;00m check \u001b[38;5;129;01mis\u001b[39;00m \u001b[38;5;129;01mnot\u001b[39;00m \u001b[38;5;28;01mNone\u001b[39;00m:\n",
      "\u001b[1;31mTypeError\u001b[0m: Mix of Matrix and Scalar symbols"
     ]
    }
   ],
   "source": [
    "# Simplify the expected utility function\n",
    "E_U_simplified = sp.simplify(E_U)\n",
    "print(E_U_simplified)"
   ]
  },
  {
   "cell_type": "code",
   "execution_count": 15,
   "metadata": {},
   "outputs": [
    {
     "name": "stdout",
     "output_type": "stream",
     "text": [
      "0\n"
     ]
    }
   ],
   "source": [
    "\n",
    "# Differentiate with respect to X_i to get the first-order condition\n",
    "FOC = sp.diff(E_U, X_i)\n",
    "print(FOC)"
   ]
  },
  {
   "cell_type": "code",
   "execution_count": null,
   "metadata": {},
   "outputs": [],
   "source": [
    "# Simplify the first-order condition\n",
    "FOC_simplified = sp.simplify(FOC)\n",
    "\n",
    "FOC_simplified"
   ]
  },
  {
   "cell_type": "code",
   "execution_count": 27,
   "metadata": {},
   "outputs": [
    {
     "data": {
      "text/latex": [
       "$\\displaystyle 0$"
      ],
      "text/plain": [
       "0"
      ]
     },
     "execution_count": 27,
     "metadata": {},
     "output_type": "execute_result"
    }
   ],
   "source": [
    "import sympy as sp\n",
    "\n",
    "N = 5  # Dimension of the problem\n",
    "\n",
    "# Define scalar variables\n",
    "A_i, W_0_i, r_f = sp.symbols('A_i W_0_i r_f')\n",
    "a_i = A_i * W_0_i\n",
    "\n",
    "# Define vector and matrix variables\n",
    "mu = sp.MatrixSymbol('mu', N, 1)\n",
    "bi = sp.MatrixSymbol('bi', N, 1)\n",
    "Sigma = sp.MatrixSymbol('Sigma', N, N)\n",
    "X_i = sp.MatrixSymbol('X_i', N, 1)\n",
    "tilde_r = sp.MatrixSymbol('tilde_r', N, 1)\n",
    "\n",
    "# Define the terms\n",
    "mu_plus_bi = mu + bi / a_i\n",
    "\n",
    "# Define the scalar one\n",
    "one = sp.Integer(1)\n",
    "\n",
    "# Operations involving scalars and matrices\n",
    "term1 = -a_i * (one + r_f)\n",
    "term2 = -a_i * (X_i.T * mu_plus_bi)[0]\n",
    "term3 = (1 / 2) * a_i**2 * (X_i.T * Sigma * X_i)[0]\n",
    "\n",
    "# Define the expected utility function\n",
    "E_U = -sp.exp(term1 + term2 + term3)\n",
    "\n",
    "# Differentiate with respect to X_i to get the first-order condition\n",
    "FOC = sp.diff(E_U, X_i)\n",
    "\n",
    "# Simplify the first-order condition\n",
    "FOC_simplified = sp.simplify(FOC)\n",
    "\n",
    "FOC_simplified\n"
   ]
  }
 ],
 "metadata": {
  "kernelspec": {
   "display_name": "Python 3",
   "language": "python",
   "name": "python3"
  },
  "language_info": {
   "codemirror_mode": {
    "name": "ipython",
    "version": 3
   },
   "file_extension": ".py",
   "mimetype": "text/x-python",
   "name": "python",
   "nbconvert_exporter": "python",
   "pygments_lexer": "ipython3",
   "version": "3.8.10"
  }
 },
 "nbformat": 4,
 "nbformat_minor": 2
}
