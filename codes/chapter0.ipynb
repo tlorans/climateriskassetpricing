{
 "cells": [
  {
   "cell_type": "code",
   "execution_count": 1,
   "metadata": {},
   "outputs": [
    {
     "name": "stdout",
     "output_type": "stream",
     "text": [
      "Requirement already satisfied: simpy in c:\\users\\t_lorans\\appdata\\local\\programs\\python\\python38\\lib\\site-packages (4.1.1)\n"
     ]
    },
    {
     "name": "stderr",
     "output_type": "stream",
     "text": [
      "\n",
      "[notice] A new release of pip is available: 23.3.2 -> 24.0\n",
      "[notice] To update, run: python.exe -m pip install --upgrade pip\n"
     ]
    }
   ],
   "source": [
    "# !pip install simpy"
   ]
  },
  {
   "cell_type": "markdown",
   "metadata": {},
   "source": [
    "Utility function"
   ]
  },
  {
   "cell_type": "code",
   "execution_count": 6,
   "metadata": {},
   "outputs": [
    {
     "name": "stdout",
     "output_type": "stream",
     "text": [
      "U: -exp(-A_i*W_0_i*(r_f + X_i[0, 0]*mu[0, 0] + 1) - X_i[0, 0]*bi[0, 0])\n"
     ]
    }
   ],
   "source": [
    "import sympy as sp\n",
    "\n",
    "# Define variables\n",
    "A_i, W_0_i, r_f, delta_i, d, g_prime, mu_m = sp.symbols('A_i W_0_i r_f delta_i d g_prime mu_m')\n",
    "a_i = sp.symbols('a_i')\n",
    "mu = sp.MatrixSymbol('mu', 1, 1)\n",
    "bi = sp.MatrixSymbol('bi', 1, 1)\n",
    "Sigma_inv = sp.MatrixSymbol('Sigma_inv', 1, 1)\n",
    "\n",
    "# Define vector and scalar variables correctly\n",
    "X_i = sp.MatrixSymbol('X_i', 1, 1)  # Portfolio weights\n",
    "\n",
    "# Define the utility function\n",
    "W_1_i = W_0_i * (1 + r_f + (X_i.T * mu)[0])\n",
    "U = -sp.exp(-A_i * W_1_i - (bi.T * X_i)[0])\n",
    "print('U:', U)"
   ]
  },
  {
   "cell_type": "code",
   "execution_count": 7,
   "metadata": {},
   "outputs": [
    {
     "name": "stdout",
     "output_type": "stream",
     "text": [
      "FOC: 0\n"
     ]
    }
   ],
   "source": [
    "\n",
    "# First-order condition for utility maximization\n",
    "FOC = sp.diff(U, X_i)\n",
    "\n",
    "print('FOC:', FOC)"
   ]
  },
  {
   "cell_type": "code",
   "execution_count": null,
   "metadata": {},
   "outputs": [],
   "source": [
    "\n",
    "# Simplifying the solution\n",
    "sol_X_i_simplified = sp.simplify(sol_X_i)\n",
    "\n",
    "sol_X_i_simplified"
   ]
  }
 ],
 "metadata": {
  "kernelspec": {
   "display_name": "Python 3",
   "language": "python",
   "name": "python3"
  },
  "language_info": {
   "codemirror_mode": {
    "name": "ipython",
    "version": 3
   },
   "file_extension": ".py",
   "mimetype": "text/x-python",
   "name": "python",
   "nbconvert_exporter": "python",
   "pygments_lexer": "ipython3",
   "version": "3.8.10"
  }
 },
 "nbformat": 4,
 "nbformat_minor": 2
}
