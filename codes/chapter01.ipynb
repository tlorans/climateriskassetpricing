{
 "cells": [
  {
   "cell_type": "code",
   "execution_count": 1,
   "metadata": {},
   "outputs": [],
   "source": [
    "import pandas as pd\n",
    "from collections import Counter"
   ]
  },
  {
   "cell_type": "code",
   "execution_count": 2,
   "metadata": {},
   "outputs": [],
   "source": [
    "corpus = [\"a rose is still a rose\",\n",
    "\"there is no there there\",\n",
    "\"rose is a rose is a rose is a rose\"]"
   ]
  },
  {
   "cell_type": "code",
   "execution_count": 3,
   "metadata": {},
   "outputs": [
    {
     "name": "stdout",
     "output_type": "stream",
     "text": [
      "     a  rose   is  still  there   no\n",
      "0  2.0   2.0  1.0    1.0    0.0  0.0\n",
      "1  0.0   0.0  1.0    0.0    3.0  1.0\n",
      "2  3.0   4.0  3.0    0.0    0.0  0.0\n"
     ]
    }
   ],
   "source": [
    "tf = pd.DataFrame([pd.Series(Counter(doc.split())) for doc in corpus]).fillna(0)\n",
    "print(tf)"
   ]
  },
  {
   "cell_type": "code",
   "execution_count": 17,
   "metadata": {},
   "outputs": [
    {
     "name": "stdout",
     "output_type": "stream",
     "text": [
      "0     6.0\n",
      "1     5.0\n",
      "2    10.0\n",
      "dtype: float64\n"
     ]
    }
   ],
   "source": [
    "print(tf.sum(axis=1))"
   ]
  },
  {
   "cell_type": "code",
   "execution_count": 19,
   "metadata": {},
   "outputs": [
    {
     "name": "stdout",
     "output_type": "stream",
     "text": [
      "          a      rose        is     still  there   no\n",
      "0  0.333333  0.333333  0.166667  0.166667    0.0  0.0\n",
      "1  0.000000  0.000000  0.200000  0.000000    0.6  0.2\n",
      "2  0.300000  0.400000  0.300000  0.000000    0.0  0.0\n"
     ]
    }
   ],
   "source": [
    "# Compute the sum of the DataFrame along the columns (axis=0)\n",
    "tf_sum = tf.sum(axis=1)\n",
    "\n",
    "# Divide the initial DataFrame by the computed sum\n",
    "tf_normalized = tf.div(tf_sum, axis=0)\n",
    "\n",
    "print(tf_normalized)"
   ]
  },
  {
   "cell_type": "code",
   "execution_count": 5,
   "metadata": {},
   "outputs": [
    {
     "data": {
      "text/plain": [
       "0.09534625892455924"
      ]
     },
     "execution_count": 5,
     "metadata": {},
     "output_type": "execute_result"
    }
   ],
   "source": [
    "import numpy\n",
    "\n",
    "def length(v):\n",
    "    return numpy.sqrt(numpy.dot(v, v))\n",
    "\n",
    "def cos_dis(v, w):\n",
    "    return numpy.dot(v, w) / (length(v) * length(w))\n",
    "\n",
    "cos_dis(tf.loc[0], tf.loc[1])"
   ]
  }
 ],
 "metadata": {
  "kernelspec": {
   "display_name": "base",
   "language": "python",
   "name": "python3"
  },
  "language_info": {
   "codemirror_mode": {
    "name": "ipython",
    "version": 3
   },
   "file_extension": ".py",
   "mimetype": "text/x-python",
   "name": "python",
   "nbconvert_exporter": "python",
   "pygments_lexer": "ipython3",
   "version": "3.10.9"
  }
 },
 "nbformat": 4,
 "nbformat_minor": 2
}
