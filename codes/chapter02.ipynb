{
 "cells": [
  {
   "cell_type": "markdown",
   "metadata": {},
   "source": [
    "Example 1"
   ]
  },
  {
   "cell_type": "code",
   "execution_count": 2,
   "metadata": {},
   "outputs": [
    {
     "name": "stdout",
     "output_type": "stream",
     "text": [
      "Expected payoff per dollar invested: 1.2\n",
      "Unexpected payoff adjustment: -0.034\n",
      "Actual payoff per dollar invested: 1.166\n",
      "Actual end-of-period profit: 116.6 million USD\n",
      "The investor in Gen-0 will earn 116.6% on the investment at the end of the period.\n"
     ]
    }
   ],
   "source": [
    "# Initial investment and expected profit\n",
    "P_0 = 100  # Initial investment in million USD\n",
    "E_0_X1 = 120  # Expected profit in million USD\n",
    "\n",
    "# Expected payoff per dollar invested\n",
    "expected_payoff_per_dollar = E_0_X1 / P_0\n",
    "\n",
    "# Unexpected events\n",
    "tilde_M1 = -0.05  # Macroeconomic downturn (5% negative shock)\n",
    "tilde_C1 = 0.03   # Higher-than-anticipated carbon tax (3% additional cost)\n",
    "\n",
    "# Sensitivity of the firm's profits to economic and carbon tax shocks\n",
    "beta_m = 0.5\n",
    "beta_c = -0.3\n",
    "\n",
    "# Calculation of the unexpected payoff adjustment\n",
    "unexpected_payoff_adjustment = (beta_m * tilde_M1) + (beta_c * tilde_C1)\n",
    "\n",
    "# Actual payoff per dollar invested\n",
    "actual_payoff_per_dollar = expected_payoff_per_dollar + unexpected_payoff_adjustment\n",
    "\n",
    "# Actual end-of-period profit in dollar terms\n",
    "actual_profit = actual_payoff_per_dollar * P_0\n",
    "\n",
    "# Print results\n",
    "print(f\"Expected payoff per dollar invested: {expected_payoff_per_dollar}\")\n",
    "print(f\"Unexpected payoff adjustment: {unexpected_payoff_adjustment}\")\n",
    "print(f\"Actual payoff per dollar invested: {actual_payoff_per_dollar}\")\n",
    "print(f\"Actual end-of-period profit: {actual_profit} million USD\")\n",
    "print(f\"The investor in Gen-0 will earn {actual_profit}% on the investment at the end of the period.\")\n"
   ]
  }
 ],
 "metadata": {
  "kernelspec": {
   "display_name": "base",
   "language": "python",
   "name": "python3"
  },
  "language_info": {
   "codemirror_mode": {
    "name": "ipython",
    "version": 3
   },
   "file_extension": ".py",
   "mimetype": "text/x-python",
   "name": "python",
   "nbconvert_exporter": "python",
   "pygments_lexer": "ipython3",
   "version": "3.10.9"
  }
 },
 "nbformat": 4,
 "nbformat_minor": 2
}
